{
 "cells": [
  {
   "cell_type": "code",
   "execution_count": 3,
   "id": "a2853d6e",
   "metadata": {},
   "outputs": [
    {
     "name": "stdout",
     "output_type": "stream",
     "text": [
      "原告須賠償金額： 17981\n",
      "被告須賠償金額： 7706\n"
     ]
    }
   ],
   "source": [
    "money=25688\n",
    "a=money*0.7\n",
    "b=money*0.3\n",
    "print(\"原告須賠償金額：\", int(a))\n",
    "print(\"被告須賠償金額：\", int(b))"
   ]
  },
  {
   "cell_type": "code",
   "execution_count": null,
   "id": "317fe1b8",
   "metadata": {},
   "outputs": [],
   "source": []
  }
 ],
 "metadata": {
  "kernelspec": {
   "display_name": "Python 3 (ipykernel)",
   "language": "python",
   "name": "python3"
  },
  "language_info": {
   "codemirror_mode": {
    "name": "ipython",
    "version": 3
   },
   "file_extension": ".py",
   "mimetype": "text/x-python",
   "name": "python",
   "nbconvert_exporter": "python",
   "pygments_lexer": "ipython3",
   "version": "3.9.12"
  }
 },
 "nbformat": 4,
 "nbformat_minor": 5
}
