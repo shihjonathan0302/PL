{
 "cells": [
  {
   "cell_type": "code",
   "execution_count": 23,
   "id": "597cc30c",
   "metadata": {
    "scrolled": true
   },
   "outputs": [],
   "source": [
    "import jieba\n",
    "import jieba.analyse\n",
    "import pandas as pd\n",
    "import numpy as np\n",
    "from collections import Counter"
   ]
  },
  {
   "cell_type": "code",
   "execution_count": 25,
   "id": "173dc20f",
   "metadata": {
    "scrolled": true
   },
   "outputs": [
    {
     "data": {
      "text/html": [
       "<div>\n",
       "<style scoped>\n",
       "    .dataframe tbody tr th:only-of-type {\n",
       "        vertical-align: middle;\n",
       "    }\n",
       "\n",
       "    .dataframe tbody tr th {\n",
       "        vertical-align: top;\n",
       "    }\n",
       "\n",
       "    .dataframe thead th {\n",
       "        text-align: right;\n",
       "    }\n",
       "</style>\n",
       "<table border=\"1\" class=\"dataframe\">\n",
       "  <thead>\n",
       "    <tr style=\"text-align: right;\">\n",
       "      <th></th>\n",
       "      <th>placeName</th>\n",
       "      <th>address</th>\n",
       "      <th>managerUnit</th>\n",
       "      <th>applyUnit</th>\n",
       "      <th>contactor</th>\n",
       "      <th>officePhone</th>\n",
       "      <th>fax</th>\n",
       "      <th>email</th>\n",
       "      <th>register</th>\n",
       "      <th>imageUrl</th>\n",
       "    </tr>\n",
       "  </thead>\n",
       "  <tbody>\n",
       "    <tr>\n",
       "      <th>0</th>\n",
       "      <td>西門徒步區</td>\n",
       "      <td>漢中街、武昌街</td>\n",
       "      <td>臺北市政府文化局/臺北市文化基金會</td>\n",
       "      <td>NaN</td>\n",
       "      <td>NaN</td>\n",
       "      <td>02-23119830#88</td>\n",
       "      <td>NaN</td>\n",
       "      <td>taipeibuskerworkshop@gmail.com</td>\n",
       "      <td>線上登記(https://busker-register.taipei/index.aspx)</td>\n",
       "      <td>http://busker.culture.tw/c_upload_busker/perfo...</td>\n",
       "    </tr>\n",
       "    <tr>\n",
       "      <th>1</th>\n",
       "      <td>花博公園公共空間</td>\n",
       "      <td>中山區玉門街1號</td>\n",
       "      <td>財團法人臺北市會展產業發展基金會</td>\n",
       "      <td>NaN</td>\n",
       "      <td>周小姐</td>\n",
       "      <td>02-21828886#7520</td>\n",
       "      <td>NaN</td>\n",
       "      <td>NaN</td>\n",
       "      <td>免登記</td>\n",
       "      <td>http://busker.culture.tw/c_upload_busker/perfo...</td>\n",
       "    </tr>\n",
       "    <tr>\n",
       "      <th>2</th>\n",
       "      <td>信義徒步區</td>\n",
       "      <td>松壽路9號</td>\n",
       "      <td>臺北市政府文化局</td>\n",
       "      <td>臺北市政府文化局</td>\n",
       "      <td>吳小姐</td>\n",
       "      <td>02-27208889#3531、#3556</td>\n",
       "      <td>NaN</td>\n",
       "      <td>taipeibuskerworkshop@gmail.com</td>\n",
       "      <td>登記制</td>\n",
       "      <td>http://busker.culture.tw/c_upload_busker/perfo...</td>\n",
       "    </tr>\n",
       "    <tr>\n",
       "      <th>3</th>\n",
       "      <td>花博公園原民風味館</td>\n",
       "      <td>中山北路三段151號</td>\n",
       "      <td>臺北市政府原住民事務委員會</td>\n",
       "      <td>NaN</td>\n",
       "      <td>楊小姐</td>\n",
       "      <td>(02)2720-8889轉2012</td>\n",
       "      <td>NaN</td>\n",
       "      <td>NaN</td>\n",
       "      <td>電話預約</td>\n",
       "      <td>http://busker.culture.tw/c_upload_busker/perfo...</td>\n",
       "    </tr>\n",
       "    <tr>\n",
       "      <th>4</th>\n",
       "      <td>台北車站誠品站前K區地下街</td>\n",
       "      <td>臺北市中正區忠孝西路一段47號B1F</td>\n",
       "      <td>誠品生活股份有限公司</td>\n",
       "      <td>NaN</td>\n",
       "      <td>盧小姐</td>\n",
       "      <td>NaN</td>\n",
       "      <td>02-66321188分機102</td>\n",
       "      <td>39busker@gmail.com</td>\n",
       "      <td>以E-mail、傳真、郵寄或親送申請書及申請所需文件至本商場辦公室。</td>\n",
       "      <td>http://busker.culture.tw/c_upload_busker/perfo...</td>\n",
       "    </tr>\n",
       "  </tbody>\n",
       "</table>\n",
       "</div>"
      ],
      "text/plain": [
       "       placeName             address        managerUnit applyUnit contactor  \\\n",
       "0          西門徒步區             漢中街、武昌街  臺北市政府文化局/臺北市文化基金會       NaN       NaN   \n",
       "1       花博公園公共空間            中山區玉門街1號   財團法人臺北市會展產業發展基金會       NaN       周小姐   \n",
       "2          信義徒步區               松壽路9號           臺北市政府文化局  臺北市政府文化局       吳小姐   \n",
       "3      花博公園原民風味館          中山北路三段151號      臺北市政府原住民事務委員會       NaN       楊小姐   \n",
       "4  台北車站誠品站前K區地下街  臺北市中正區忠孝西路一段47號B1F         誠品生活股份有限公司       NaN       盧小姐   \n",
       "\n",
       "              officePhone               fax                           email  \\\n",
       "0          02-23119830#88               NaN  taipeibuskerworkshop@gmail.com   \n",
       "1        02-21828886#7520               NaN                             NaN   \n",
       "2  02-27208889#3531、#3556               NaN  taipeibuskerworkshop@gmail.com   \n",
       "3      (02)2720-8889轉2012               NaN                             NaN   \n",
       "4                     NaN  02-66321188分機102              39busker@gmail.com   \n",
       "\n",
       "                                          register  \\\n",
       "0  線上登記(https://busker-register.taipei/index.aspx)   \n",
       "1                                              免登記   \n",
       "2                                              登記制   \n",
       "3                                             電話預約   \n",
       "4               以E-mail、傳真、郵寄或親送申請書及申請所需文件至本商場辦公室。   \n",
       "\n",
       "                                            imageUrl  \n",
       "0  http://busker.culture.tw/c_upload_busker/perfo...  \n",
       "1  http://busker.culture.tw/c_upload_busker/perfo...  \n",
       "2  http://busker.culture.tw/c_upload_busker/perfo...  \n",
       "3  http://busker.culture.tw/c_upload_busker/perfo...  \n",
       "4  http://busker.culture.tw/c_upload_busker/perfo...  "
      ]
     },
     "execution_count": 25,
     "metadata": {},
     "output_type": "execute_result"
    }
   ],
   "source": [
    "#讀取資料\n",
    "orgdata = pd.read_csv('performPlace.csv')\n",
    "orgdata.head()"
   ]
  },
  {
   "cell_type": "code",
   "execution_count": 26,
   "id": "f6dcc972",
   "metadata": {},
   "outputs": [
    {
     "name": "stderr",
     "output_type": "stream",
     "text": [
      "Building prefix dict from the default dictionary ...\n",
      "Dumping model to file cache /var/folders/zj/9glny9b520z6yj6td8spsvdc0000gn/T/jieba.cache\n",
      "Loading model cost 1.013 seconds.\n",
      "Prefix dict has been built successfully.\n"
     ]
    },
    {
     "name": "stdout",
     "output_type": "stream",
     "text": [
      "我/是/臺/灣師/範大學/科技/系/114/級施/宏儒\n"
     ]
    }
   ],
   "source": [
    "documents = ['我是臺灣師範大學科技系114級施宏儒']#一段字串\n",
    "# 精確模式\n",
    "for sentence in documents:\n",
    "    seg_list = jieba.cut(sentence)#用jieba做cut斷詞\n",
    "    print('/'.join(seg_list))#印出來的內容用斜線隔開"
   ]
  },
  {
   "cell_type": "code",
   "execution_count": 32,
   "id": "c2788740",
   "metadata": {
    "scrolled": true
   },
   "outputs": [
    {
     "ename": "ValueError",
     "evalue": "dictionary file ./userdict.txt must be utf-8",
     "output_type": "error",
     "traceback": [
      "\u001b[0;31m---------------------------------------------------------------------------\u001b[0m",
      "\u001b[0;31mUnicodeDecodeError\u001b[0m                        Traceback (most recent call last)",
      "File \u001b[0;32m~/Downloads/anaconda3/lib/python3.9/site-packages/jieba/__init__.py:405\u001b[0m, in \u001b[0;36mTokenizer.load_userdict\u001b[0;34m(self, f)\u001b[0m\n\u001b[1;32m    404\u001b[0m \u001b[38;5;28;01mtry\u001b[39;00m:\n\u001b[0;32m--> 405\u001b[0m     line \u001b[38;5;241m=\u001b[39m \u001b[43mline\u001b[49m\u001b[38;5;241;43m.\u001b[39;49m\u001b[43mdecode\u001b[49m\u001b[43m(\u001b[49m\u001b[38;5;124;43m'\u001b[39;49m\u001b[38;5;124;43mutf-8\u001b[39;49m\u001b[38;5;124;43m'\u001b[39;49m\u001b[43m)\u001b[49m\u001b[38;5;241m.\u001b[39mlstrip(\u001b[38;5;124m'\u001b[39m\u001b[38;5;130;01m\\ufeff\u001b[39;00m\u001b[38;5;124m'\u001b[39m)\n\u001b[1;32m    406\u001b[0m \u001b[38;5;28;01mexcept\u001b[39;00m \u001b[38;5;167;01mUnicodeDecodeError\u001b[39;00m:\n",
      "\u001b[0;31mUnicodeDecodeError\u001b[0m: 'utf-8' codec can't decode byte 0xbb in position 0: invalid start byte",
      "\nDuring handling of the above exception, another exception occurred:\n",
      "\u001b[0;31mValueError\u001b[0m                                Traceback (most recent call last)",
      "Input \u001b[0;32mIn [32]\u001b[0m, in \u001b[0;36m<cell line: 1>\u001b[0;34m()\u001b[0m\n\u001b[0;32m----> 1\u001b[0m \u001b[43mjieba\u001b[49m\u001b[38;5;241;43m.\u001b[39;49m\u001b[43mload_userdict\u001b[49m\u001b[43m(\u001b[49m\u001b[38;5;124;43m'\u001b[39;49m\u001b[38;5;124;43m./userdict.txt\u001b[39;49m\u001b[38;5;124;43m'\u001b[39;49m\u001b[43m)\u001b[49m\n\u001b[1;32m      2\u001b[0m utf\u001b[38;5;241m-\u001b[39m\u001b[38;5;241m8\u001b[39m\n\u001b[1;32m      4\u001b[0m \u001b[38;5;28;01mfor\u001b[39;00m sentence \u001b[38;5;129;01min\u001b[39;00m documents:\n",
      "File \u001b[0;32m~/Downloads/anaconda3/lib/python3.9/site-packages/jieba/__init__.py:407\u001b[0m, in \u001b[0;36mTokenizer.load_userdict\u001b[0;34m(self, f)\u001b[0m\n\u001b[1;32m    405\u001b[0m         line \u001b[38;5;241m=\u001b[39m line\u001b[38;5;241m.\u001b[39mdecode(\u001b[38;5;124m'\u001b[39m\u001b[38;5;124mutf-8\u001b[39m\u001b[38;5;124m'\u001b[39m)\u001b[38;5;241m.\u001b[39mlstrip(\u001b[38;5;124m'\u001b[39m\u001b[38;5;130;01m\\ufeff\u001b[39;00m\u001b[38;5;124m'\u001b[39m)\n\u001b[1;32m    406\u001b[0m     \u001b[38;5;28;01mexcept\u001b[39;00m \u001b[38;5;167;01mUnicodeDecodeError\u001b[39;00m:\n\u001b[0;32m--> 407\u001b[0m         \u001b[38;5;28;01mraise\u001b[39;00m \u001b[38;5;167;01mValueError\u001b[39;00m(\u001b[38;5;124m'\u001b[39m\u001b[38;5;124mdictionary file \u001b[39m\u001b[38;5;132;01m%s\u001b[39;00m\u001b[38;5;124m must be utf-8\u001b[39m\u001b[38;5;124m'\u001b[39m \u001b[38;5;241m%\u001b[39m f_name)\n\u001b[1;32m    408\u001b[0m \u001b[38;5;28;01mif\u001b[39;00m \u001b[38;5;129;01mnot\u001b[39;00m line:\n\u001b[1;32m    409\u001b[0m     \u001b[38;5;28;01mcontinue\u001b[39;00m\n",
      "\u001b[0;31mValueError\u001b[0m: dictionary file ./userdict.txt must be utf-8"
     ]
    }
   ],
   "source": [
    "jieba.load_userdict('./userdict.txt')\n",
    "utf-8\n",
    "\n",
    "for sentence in documents:\n",
    "    seg_list = jieba.cut(sentence)\n",
    "    print('/'.join(seg_list))"
   ]
  },
  {
   "cell_type": "code",
   "execution_count": null,
   "id": "5d32cc97",
   "metadata": {},
   "outputs": [],
   "source": []
  }
 ],
 "metadata": {
  "kernelspec": {
   "display_name": "Python 3 (ipykernel)",
   "language": "python",
   "name": "python3"
  },
  "language_info": {
   "codemirror_mode": {
    "name": "ipython",
    "version": 3
   },
   "file_extension": ".py",
   "mimetype": "text/x-python",
   "name": "python",
   "nbconvert_exporter": "python",
   "pygments_lexer": "ipython3",
   "version": "3.9.12"
  }
 },
 "nbformat": 4,
 "nbformat_minor": 5
}
