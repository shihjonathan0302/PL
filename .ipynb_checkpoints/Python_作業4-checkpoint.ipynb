{
 "cells": [
  {
   "cell_type": "code",
   "execution_count": 1,
   "id": "464898a2",
   "metadata": {
    "scrolled": true
   },
   "outputs": [],
   "source": [
    "import jieba\n",
    "import jieba.analyse\n",
    "import pandas as pd\n",
    "import numpy as np\n",
    "from collections import Counter"
   ]
  },
  {
   "cell_type": "code",
   "execution_count": 2,
   "id": "03c2e844",
   "metadata": {
    "scrolled": true
   },
   "outputs": [
    {
     "data": {
      "text/html": [
       "<div>\n",
       "<style scoped>\n",
       "    .dataframe tbody tr th:only-of-type {\n",
       "        vertical-align: middle;\n",
       "    }\n",
       "\n",
       "    .dataframe tbody tr th {\n",
       "        vertical-align: top;\n",
       "    }\n",
       "\n",
       "    .dataframe thead th {\n",
       "        text-align: right;\n",
       "    }\n",
       "</style>\n",
       "<table border=\"1\" class=\"dataframe\">\n",
       "  <thead>\n",
       "    <tr style=\"text-align: right;\">\n",
       "      <th></th>\n",
       "      <th>placeName</th>\n",
       "      <th>address</th>\n",
       "      <th>managerUnit</th>\n",
       "      <th>applyUnit</th>\n",
       "      <th>contactor</th>\n",
       "      <th>officePhone</th>\n",
       "      <th>fax</th>\n",
       "      <th>email</th>\n",
       "      <th>register</th>\n",
       "      <th>imageUrl</th>\n",
       "    </tr>\n",
       "  </thead>\n",
       "  <tbody>\n",
       "    <tr>\n",
       "      <th>0</th>\n",
       "      <td>西門徒步區</td>\n",
       "      <td>漢中街、武昌街</td>\n",
       "      <td>臺北市政府文化局/臺北市文化基金會</td>\n",
       "      <td>NaN</td>\n",
       "      <td>NaN</td>\n",
       "      <td>02-23119830#88</td>\n",
       "      <td>NaN</td>\n",
       "      <td>taipeibuskerworkshop@gmail.com</td>\n",
       "      <td>線上登記(https://busker-register.taipei/index.aspx)</td>\n",
       "      <td>http://busker.culture.tw/c_upload_busker/perfo...</td>\n",
       "    </tr>\n",
       "    <tr>\n",
       "      <th>1</th>\n",
       "      <td>花博公園公共空間</td>\n",
       "      <td>中山區玉門街1號</td>\n",
       "      <td>財團法人臺北市會展產業發展基金會</td>\n",
       "      <td>NaN</td>\n",
       "      <td>周小姐</td>\n",
       "      <td>02-21828886#7520</td>\n",
       "      <td>NaN</td>\n",
       "      <td>NaN</td>\n",
       "      <td>免登記</td>\n",
       "      <td>http://busker.culture.tw/c_upload_busker/perfo...</td>\n",
       "    </tr>\n",
       "    <tr>\n",
       "      <th>2</th>\n",
       "      <td>信義徒步區</td>\n",
       "      <td>松壽路9號</td>\n",
       "      <td>臺北市政府文化局</td>\n",
       "      <td>臺北市政府文化局</td>\n",
       "      <td>吳小姐</td>\n",
       "      <td>02-27208889#3531、#3556</td>\n",
       "      <td>NaN</td>\n",
       "      <td>taipeibuskerworkshop@gmail.com</td>\n",
       "      <td>登記制</td>\n",
       "      <td>http://busker.culture.tw/c_upload_busker/perfo...</td>\n",
       "    </tr>\n",
       "    <tr>\n",
       "      <th>3</th>\n",
       "      <td>花博公園原民風味館</td>\n",
       "      <td>中山北路三段151號</td>\n",
       "      <td>臺北市政府原住民事務委員會</td>\n",
       "      <td>NaN</td>\n",
       "      <td>楊小姐</td>\n",
       "      <td>(02)2720-8889轉2012</td>\n",
       "      <td>NaN</td>\n",
       "      <td>NaN</td>\n",
       "      <td>電話預約</td>\n",
       "      <td>http://busker.culture.tw/c_upload_busker/perfo...</td>\n",
       "    </tr>\n",
       "    <tr>\n",
       "      <th>4</th>\n",
       "      <td>台北車站誠品站前K區地下街</td>\n",
       "      <td>臺北市中正區忠孝西路一段47號B1F</td>\n",
       "      <td>誠品生活股份有限公司</td>\n",
       "      <td>NaN</td>\n",
       "      <td>盧小姐</td>\n",
       "      <td>NaN</td>\n",
       "      <td>02-66321188分機102</td>\n",
       "      <td>39busker@gmail.com</td>\n",
       "      <td>以E-mail、傳真、郵寄或親送申請書及申請所需文件至本商場辦公室。</td>\n",
       "      <td>http://busker.culture.tw/c_upload_busker/perfo...</td>\n",
       "    </tr>\n",
       "  </tbody>\n",
       "</table>\n",
       "</div>"
      ],
      "text/plain": [
       "       placeName             address        managerUnit applyUnit contactor  \\\n",
       "0          西門徒步區             漢中街、武昌街  臺北市政府文化局/臺北市文化基金會       NaN       NaN   \n",
       "1       花博公園公共空間            中山區玉門街1號   財團法人臺北市會展產業發展基金會       NaN       周小姐   \n",
       "2          信義徒步區               松壽路9號           臺北市政府文化局  臺北市政府文化局       吳小姐   \n",
       "3      花博公園原民風味館          中山北路三段151號      臺北市政府原住民事務委員會       NaN       楊小姐   \n",
       "4  台北車站誠品站前K區地下街  臺北市中正區忠孝西路一段47號B1F         誠品生活股份有限公司       NaN       盧小姐   \n",
       "\n",
       "              officePhone               fax                           email  \\\n",
       "0          02-23119830#88               NaN  taipeibuskerworkshop@gmail.com   \n",
       "1        02-21828886#7520               NaN                             NaN   \n",
       "2  02-27208889#3531、#3556               NaN  taipeibuskerworkshop@gmail.com   \n",
       "3      (02)2720-8889轉2012               NaN                             NaN   \n",
       "4                     NaN  02-66321188分機102              39busker@gmail.com   \n",
       "\n",
       "                                          register  \\\n",
       "0  線上登記(https://busker-register.taipei/index.aspx)   \n",
       "1                                              免登記   \n",
       "2                                              登記制   \n",
       "3                                             電話預約   \n",
       "4               以E-mail、傳真、郵寄或親送申請書及申請所需文件至本商場辦公室。   \n",
       "\n",
       "                                            imageUrl  \n",
       "0  http://busker.culture.tw/c_upload_busker/perfo...  \n",
       "1  http://busker.culture.tw/c_upload_busker/perfo...  \n",
       "2  http://busker.culture.tw/c_upload_busker/perfo...  \n",
       "3  http://busker.culture.tw/c_upload_busker/perfo...  \n",
       "4  http://busker.culture.tw/c_upload_busker/perfo...  "
      ]
     },
     "execution_count": 2,
     "metadata": {},
     "output_type": "execute_result"
    }
   ],
   "source": [
    "#讀取資料\n",
    "orgdata = pd.read_csv('performPlace.csv')\n",
    "orgdata.head()"
   ]
  },
  {
   "cell_type": "code",
   "execution_count": 3,
   "id": "551357a9",
   "metadata": {},
   "outputs": [
    {
     "name": "stderr",
     "output_type": "stream",
     "text": [
      "Building prefix dict from the default dictionary ...\n",
      "Loading model from cache /var/folders/zj/9glny9b520z6yj6td8spsvdc0000gn/T/jieba.cache\n",
      "Loading model cost 0.772 seconds.\n",
      "Prefix dict has been built successfully.\n"
     ]
    },
    {
     "name": "stdout",
     "output_type": "stream",
     "text": [
      "我/是/臺/灣師/範大學/科技/系/114/級施/宏儒\n"
     ]
    }
   ],
   "source": [
    "documents = ['我是臺灣師範大學科技系114級施宏儒']#一段字串\n",
    "# 精確模式\n",
    "for sentence in documents:\n",
    "    seg_list = jieba.cut(sentence)#用jieba做cut斷詞\n",
    "    print('/'.join(seg_list))#印出來的內容用斜線隔開"
   ]
  },
  {
   "cell_type": "code",
   "execution_count": 4,
   "id": "94cfa07a",
   "metadata": {
    "scrolled": true
   },
   "outputs": [
    {
     "name": "stdout",
     "output_type": "stream",
     "text": [
      "我/是/臺灣/師範大學/科技系/114級/施宏儒\n"
     ]
    }
   ],
   "source": [
    "jieba.load_userdict('./userdict.txt')#自己建立斷詞文本\n",
    "\n",
    "for sentence in documents:\n",
    "    seg_list = jieba.cut(sentence)\n",
    "    print('/'.join(seg_list))"
   ]
  },
  {
   "cell_type": "code",
   "execution_count": 11,
   "id": "4ec53479",
   "metadata": {
    "scrolled": true
   },
   "outputs": [
    {
     "data": {
      "text/html": [
       "<div>\n",
       "<style scoped>\n",
       "    .dataframe tbody tr th:only-of-type {\n",
       "        vertical-align: middle;\n",
       "    }\n",
       "\n",
       "    .dataframe tbody tr th {\n",
       "        vertical-align: top;\n",
       "    }\n",
       "\n",
       "    .dataframe thead th {\n",
       "        text-align: right;\n",
       "    }\n",
       "</style>\n",
       "<table border=\"1\" class=\"dataframe\">\n",
       "  <thead>\n",
       "    <tr style=\"text-align: right;\">\n",
       "      <th></th>\n",
       "      <th>placeName</th>\n",
       "      <th>address</th>\n",
       "      <th>managerUnit</th>\n",
       "      <th>applyUnit</th>\n",
       "      <th>contactor</th>\n",
       "      <th>officePhone</th>\n",
       "      <th>fax</th>\n",
       "      <th>email</th>\n",
       "      <th>register</th>\n",
       "      <th>imageUrl</th>\n",
       "      <th>seg</th>\n",
       "    </tr>\n",
       "  </thead>\n",
       "  <tbody>\n",
       "    <tr>\n",
       "      <th>0</th>\n",
       "      <td>西門徒步區</td>\n",
       "      <td>漢中街、武昌街</td>\n",
       "      <td>臺北市政府文化局/臺北市文化基金會</td>\n",
       "      <td>NaN</td>\n",
       "      <td>NaN</td>\n",
       "      <td>02-23119830#88</td>\n",
       "      <td>NaN</td>\n",
       "      <td>taipeibuskerworkshop@gmail.com</td>\n",
       "      <td>線上登記(https://busker-register.taipei/index.aspx)</td>\n",
       "      <td>http://busker.culture.tw/c_upload_busker/perfo...</td>\n",
       "      <td></td>\n",
       "    </tr>\n",
       "    <tr>\n",
       "      <th>1</th>\n",
       "      <td>花博公園公共空間</td>\n",
       "      <td>中山區玉門街1號</td>\n",
       "      <td>財團法人臺北市會展產業發展基金會</td>\n",
       "      <td>NaN</td>\n",
       "      <td>周小姐</td>\n",
       "      <td>02-21828886#7520</td>\n",
       "      <td>NaN</td>\n",
       "      <td>NaN</td>\n",
       "      <td>免登記</td>\n",
       "      <td>http://busker.culture.tw/c_upload_busker/perfo...</td>\n",
       "      <td></td>\n",
       "    </tr>\n",
       "    <tr>\n",
       "      <th>2</th>\n",
       "      <td>信義徒步區</td>\n",
       "      <td>松壽路9號</td>\n",
       "      <td>臺北市政府文化局</td>\n",
       "      <td>臺北市政府文化局</td>\n",
       "      <td>吳小姐</td>\n",
       "      <td>02-27208889#3531、#3556</td>\n",
       "      <td>NaN</td>\n",
       "      <td>taipeibuskerworkshop@gmail.com</td>\n",
       "      <td>登記制</td>\n",
       "      <td>http://busker.culture.tw/c_upload_busker/perfo...</td>\n",
       "      <td></td>\n",
       "    </tr>\n",
       "    <tr>\n",
       "      <th>3</th>\n",
       "      <td>花博公園原民風味館</td>\n",
       "      <td>中山北路三段151號</td>\n",
       "      <td>臺北市政府原住民事務委員會</td>\n",
       "      <td>NaN</td>\n",
       "      <td>楊小姐</td>\n",
       "      <td>(02)2720-8889轉2012</td>\n",
       "      <td>NaN</td>\n",
       "      <td>NaN</td>\n",
       "      <td>電話預約</td>\n",
       "      <td>http://busker.culture.tw/c_upload_busker/perfo...</td>\n",
       "      <td></td>\n",
       "    </tr>\n",
       "    <tr>\n",
       "      <th>4</th>\n",
       "      <td>台北車站誠品站前K區地下街</td>\n",
       "      <td>臺北市中正區忠孝西路一段47號B1F</td>\n",
       "      <td>誠品生活股份有限公司</td>\n",
       "      <td>NaN</td>\n",
       "      <td>盧小姐</td>\n",
       "      <td>NaN</td>\n",
       "      <td>02-66321188分機102</td>\n",
       "      <td>39busker@gmail.com</td>\n",
       "      <td>以E-mail、傳真、郵寄或親送申請書及申請所需文件至本商場辦公室。</td>\n",
       "      <td>http://busker.culture.tw/c_upload_busker/perfo...</td>\n",
       "      <td></td>\n",
       "    </tr>\n",
       "  </tbody>\n",
       "</table>\n",
       "</div>"
      ],
      "text/plain": [
       "       placeName             address        managerUnit applyUnit contactor  \\\n",
       "0          西門徒步區             漢中街、武昌街  臺北市政府文化局/臺北市文化基金會       NaN       NaN   \n",
       "1       花博公園公共空間            中山區玉門街1號   財團法人臺北市會展產業發展基金會       NaN       周小姐   \n",
       "2          信義徒步區               松壽路9號           臺北市政府文化局  臺北市政府文化局       吳小姐   \n",
       "3      花博公園原民風味館          中山北路三段151號      臺北市政府原住民事務委員會       NaN       楊小姐   \n",
       "4  台北車站誠品站前K區地下街  臺北市中正區忠孝西路一段47號B1F         誠品生活股份有限公司       NaN       盧小姐   \n",
       "\n",
       "              officePhone               fax                           email  \\\n",
       "0          02-23119830#88               NaN  taipeibuskerworkshop@gmail.com   \n",
       "1        02-21828886#7520               NaN                             NaN   \n",
       "2  02-27208889#3531、#3556               NaN  taipeibuskerworkshop@gmail.com   \n",
       "3      (02)2720-8889轉2012               NaN                             NaN   \n",
       "4                     NaN  02-66321188分機102              39busker@gmail.com   \n",
       "\n",
       "                                          register  \\\n",
       "0  線上登記(https://busker-register.taipei/index.aspx)   \n",
       "1                                              免登記   \n",
       "2                                              登記制   \n",
       "3                                             電話預約   \n",
       "4               以E-mail、傳真、郵寄或親送申請書及申請所需文件至本商場辦公室。   \n",
       "\n",
       "                                            imageUrl seg  \n",
       "0  http://busker.culture.tw/c_upload_busker/perfo...      \n",
       "1  http://busker.culture.tw/c_upload_busker/perfo...      \n",
       "2  http://busker.culture.tw/c_upload_busker/perfo...      \n",
       "3  http://busker.culture.tw/c_upload_busker/perfo...      \n",
       "4  http://busker.culture.tw/c_upload_busker/perfo...      "
      ]
     },
     "execution_count": 11,
     "metadata": {},
     "output_type": "execute_result"
    }
   ],
   "source": [
    "orgdata['seg'] =  \"\"\n",
    "orgdata.head()"
   ]
  },
  {
   "cell_type": "code",
   "execution_count": 9,
   "id": "965d9d16",
   "metadata": {
    "scrolled": false
   },
   "outputs": [
    {
     "ename": "AttributeError",
     "evalue": "'float' object has no attribute 'decode'",
     "output_type": "error",
     "traceback": [
      "\u001b[0;31m---------------------------------------------------------------------------\u001b[0m",
      "\u001b[0;31mAttributeError\u001b[0m                            Traceback (most recent call last)",
      "Input \u001b[0;32mIn [9]\u001b[0m, in \u001b[0;36m<cell line: 3>\u001b[0;34m()\u001b[0m\n\u001b[1;32m      2\u001b[0m index \u001b[38;5;241m=\u001b[39m \u001b[38;5;241m0\u001b[39m\n\u001b[1;32m      3\u001b[0m \u001b[38;5;28;01mfor\u001b[39;00m documents \u001b[38;5;129;01min\u001b[39;00m orgdata[\u001b[38;5;124m'\u001b[39m\u001b[38;5;124maddress\u001b[39m\u001b[38;5;124m'\u001b[39m]: \n\u001b[0;32m----> 4\u001b[0m     seg_list \u001b[38;5;241m=\u001b[39m \u001b[43mjieba\u001b[49m\u001b[38;5;241;43m.\u001b[39;49m\u001b[43manalyse\u001b[49m\u001b[38;5;241;43m.\u001b[39;49m\u001b[43mextract_tags\u001b[49m\u001b[43m(\u001b[49m\u001b[43mdocuments\u001b[49m\u001b[43m,\u001b[49m\u001b[43m \u001b[49m\u001b[38;5;241;43m150\u001b[39;49m\u001b[43m)\u001b[49m\n\u001b[1;32m      5\u001b[0m     \u001b[38;5;66;03m#seg_list = jieba.lcut(documents)\u001b[39;00m\n\u001b[1;32m      6\u001b[0m     orgdata[\u001b[38;5;124m'\u001b[39m\u001b[38;5;124mseg\u001b[39m\u001b[38;5;124m'\u001b[39m]\u001b[38;5;241m.\u001b[39miloc[index] \u001b[38;5;241m=\u001b[39m seg_list\n",
      "File \u001b[0;32m~/Downloads/anaconda3/lib/python3.9/site-packages/jieba/analyse/tfidf.py:94\u001b[0m, in \u001b[0;36mTFIDF.extract_tags\u001b[0;34m(self, sentence, topK, withWeight, allowPOS, withFlag)\u001b[0m\n\u001b[1;32m     92\u001b[0m     words \u001b[38;5;241m=\u001b[39m \u001b[38;5;28mself\u001b[39m\u001b[38;5;241m.\u001b[39mtokenizer\u001b[38;5;241m.\u001b[39mcut(sentence)\n\u001b[1;32m     93\u001b[0m freq \u001b[38;5;241m=\u001b[39m {}\n\u001b[0;32m---> 94\u001b[0m \u001b[38;5;28;01mfor\u001b[39;00m w \u001b[38;5;129;01min\u001b[39;00m words:\n\u001b[1;32m     95\u001b[0m     \u001b[38;5;28;01mif\u001b[39;00m allowPOS:\n\u001b[1;32m     96\u001b[0m         \u001b[38;5;28;01mif\u001b[39;00m w\u001b[38;5;241m.\u001b[39mflag \u001b[38;5;129;01mnot\u001b[39;00m \u001b[38;5;129;01min\u001b[39;00m allowPOS:\n",
      "File \u001b[0;32m~/Downloads/anaconda3/lib/python3.9/site-packages/jieba/__init__.py:300\u001b[0m, in \u001b[0;36mTokenizer.cut\u001b[0;34m(self, sentence, cut_all, HMM, use_paddle)\u001b[0m\n\u001b[1;32m    290\u001b[0m \u001b[38;5;124;03m\"\"\"\u001b[39;00m\n\u001b[1;32m    291\u001b[0m \u001b[38;5;124;03mThe main function that segments an entire sentence that contains\u001b[39;00m\n\u001b[1;32m    292\u001b[0m \u001b[38;5;124;03mChinese characters into separated words.\u001b[39;00m\n\u001b[0;32m   (...)\u001b[0m\n\u001b[1;32m    297\u001b[0m \u001b[38;5;124;03m    - HMM: Whether to use the Hidden Markov Model.\u001b[39;00m\n\u001b[1;32m    298\u001b[0m \u001b[38;5;124;03m\"\"\"\u001b[39;00m\n\u001b[1;32m    299\u001b[0m is_paddle_installed \u001b[38;5;241m=\u001b[39m check_paddle_install[\u001b[38;5;124m'\u001b[39m\u001b[38;5;124mis_paddle_installed\u001b[39m\u001b[38;5;124m'\u001b[39m]\n\u001b[0;32m--> 300\u001b[0m sentence \u001b[38;5;241m=\u001b[39m \u001b[43mstrdecode\u001b[49m\u001b[43m(\u001b[49m\u001b[43msentence\u001b[49m\u001b[43m)\u001b[49m\n\u001b[1;32m    301\u001b[0m \u001b[38;5;28;01mif\u001b[39;00m use_paddle \u001b[38;5;129;01mand\u001b[39;00m is_paddle_installed:\n\u001b[1;32m    302\u001b[0m     \u001b[38;5;66;03m# if sentence is null, it will raise core exception in paddle.\u001b[39;00m\n\u001b[1;32m    303\u001b[0m     \u001b[38;5;28;01mif\u001b[39;00m sentence \u001b[38;5;129;01mis\u001b[39;00m \u001b[38;5;28;01mNone\u001b[39;00m \u001b[38;5;129;01mor\u001b[39;00m \u001b[38;5;28mlen\u001b[39m(sentence) \u001b[38;5;241m==\u001b[39m \u001b[38;5;241m0\u001b[39m:\n",
      "File \u001b[0;32m~/Downloads/anaconda3/lib/python3.9/site-packages/jieba/_compat.py:79\u001b[0m, in \u001b[0;36mstrdecode\u001b[0;34m(sentence)\u001b[0m\n\u001b[1;32m     77\u001b[0m \u001b[38;5;28;01mif\u001b[39;00m \u001b[38;5;129;01mnot\u001b[39;00m \u001b[38;5;28misinstance\u001b[39m(sentence, text_type):\n\u001b[1;32m     78\u001b[0m     \u001b[38;5;28;01mtry\u001b[39;00m:\n\u001b[0;32m---> 79\u001b[0m         sentence \u001b[38;5;241m=\u001b[39m \u001b[43msentence\u001b[49m\u001b[38;5;241;43m.\u001b[39;49m\u001b[43mdecode\u001b[49m(\u001b[38;5;124m'\u001b[39m\u001b[38;5;124mutf-8\u001b[39m\u001b[38;5;124m'\u001b[39m)\n\u001b[1;32m     80\u001b[0m     \u001b[38;5;28;01mexcept\u001b[39;00m \u001b[38;5;167;01mUnicodeDecodeError\u001b[39;00m:\n\u001b[1;32m     81\u001b[0m         sentence \u001b[38;5;241m=\u001b[39m sentence\u001b[38;5;241m.\u001b[39mdecode(\u001b[38;5;124m'\u001b[39m\u001b[38;5;124mgbk\u001b[39m\u001b[38;5;124m'\u001b[39m, \u001b[38;5;124m'\u001b[39m\u001b[38;5;124mignore\u001b[39m\u001b[38;5;124m'\u001b[39m)\n",
      "\u001b[0;31mAttributeError\u001b[0m: 'float' object has no attribute 'decode'"
     ]
    }
   ],
   "source": [
    "jieba.analyse.set_stop_words('stopwords.txt') #自己建一個贅字檔\n",
    "index = 0\n",
    "for documents in orgdata['address']: \n",
    "    seg_list = jieba.analyse.extract_tags(documents, 150)\n",
    "    #seg_list = jieba.lcut(documents)\n",
    "    orgdata['seg'].iloc[index] = seg_list\n",
    "    index += 1"
   ]
  },
  {
   "cell_type": "code",
   "execution_count": 10,
   "id": "745fadac",
   "metadata": {},
   "outputs": [
    {
     "data": {
      "text/plain": [
       "0                         [中街, 武昌]\n",
       "1                        [區玉門, 中山]\n",
       "2                            [松壽路]\n",
       "3                  [中山北路, 151, 三段]\n",
       "4      [北市, 忠孝西路, 47, B1F, 中正, 一段]\n",
       "                  ...             \n",
       "774                               \n",
       "775                               \n",
       "776                               \n",
       "777                               \n",
       "778                               \n",
       "Name: seg, Length: 779, dtype: object"
      ]
     },
     "execution_count": 10,
     "metadata": {},
     "output_type": "execute_result"
    }
   ],
   "source": [
    "orgdata['seg']"
   ]
  },
  {
   "cell_type": "code",
   "execution_count": null,
   "id": "0e268d2d",
   "metadata": {},
   "outputs": [],
   "source": []
  }
 ],
 "metadata": {
  "kernelspec": {
   "display_name": "Python 3 (ipykernel)",
   "language": "python",
   "name": "python3"
  },
  "language_info": {
   "codemirror_mode": {
    "name": "ipython",
    "version": 3
   },
   "file_extension": ".py",
   "mimetype": "text/x-python",
   "name": "python",
   "nbconvert_exporter": "python",
   "pygments_lexer": "ipython3",
   "version": "3.9.12"
  }
 },
 "nbformat": 4,
 "nbformat_minor": 5
}
