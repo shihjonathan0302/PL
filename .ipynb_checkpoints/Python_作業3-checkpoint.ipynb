{
 "cells": [
  {
   "cell_type": "code",
   "execution_count": 4,
   "id": "3a1c949e",
   "metadata": {},
   "outputs": [],
   "source": [
    "#抓取ptt stock看板的網址\n",
    "import urllib.request as req\n",
    "import json\n",
    "import pandas as pd\n",
    "import numpy\n",
    "#輸入要爬的網頁網址 這邊輸入的是ptt的網址\n",
    "url= \"https://www.ptt.cc/bbs/Stock/index.html\"\n",
    "\n",
    "#建立一個Request物件，附加Request Headers的資訊 (讓被使用的網頁知道你的作業系統等使用者資訊)\n",
    "request=req.Request(url, headers={\n",
    "    \"User-Agent\":\"Mozilla/5.0 (Windows NT 10.0; Win64; x64) AppleWebKit/537.36 (KHTML, like Gecko) Chrome/106.0.0.0 Safari/537.36\"\n",
    "})"
   ]
  },
  {
   "cell_type": "code",
   "execution_count": 5,
   "id": "dce6345c",
   "metadata": {
    "scrolled": true
   },
   "outputs": [
    {
     "name": "stdout",
     "output_type": "stream",
     "text": [
      "[新聞] 獲利衰退恐讓明年股利難產？台新金有信心\n",
      "[新聞] 黃崇仁:明年Q1半導體景氣落底 看好下半年\n",
      "Re: [新聞] 楊金龍信心喊話:與2019年底比台股漲7.9%\n",
      "[新聞] 22家金融業增資總規模破1200億元 明年還\n",
      "[新聞] 美國10月ADP私營企業新增32.9萬個職位 \n",
      "[情報] 9933 中鼎 Q3 EPS 0.44\n",
      "[情報] 111年11月02日信用交易統計\n",
      "[新聞] 華固猴腮雷！前三季再賺一個股本\n",
      "[情報] 11/2 全市場當沖虧損最多的股票\n",
      "[心得] 盤後資料整理(Excel格式)\n",
      "[新聞] 監管帳戶資金被轉 分析：融創與政府合割\n",
      "[標的] 啟基6285爆炸多\n",
      "Re: [標的] 創惟 6104 多\n",
      "Re: [新聞] 大陸官方力挺 供銷社概念股大漲\n",
      "[情報] 美國再度升息三碼\n",
      "[公告] 股票板板規 v4.0 (2022/01/18 修正)\n",
      "[公告] 板規宣導\n",
      "[閒聊] 2022/11/02 盤後閒聊 \n"
     ]
    }
   ],
   "source": [
    "#將網頁原始碼讀出\n",
    "with req.urlopen(request) as response:\n",
    "    data=response.read().decode(\"utf-8\")\n",
    "    \n",
    "#將帶有標題的資料篩出，其他去掉\n",
    "import bs4\n",
    "root=bs4.BeautifulSoup(data, \"html.parser\")\n",
    "titles=root.find_all(\"div\", class_=\"title\")\n",
    "for title in titles:\n",
    "    if title.a !=None:\n",
    "        print(title.a.string)    "
   ]
  },
  {
   "cell_type": "code",
   "execution_count": 6,
   "id": "c729e18e",
   "metadata": {},
   "outputs": [
    {
     "data": {
      "text/plain": [
       "['[新聞] 獲利衰退恐讓明年股利難產？台新金有信心',\n",
       " '[新聞] 黃崇仁:明年Q1半導體景氣落底 看好下半年',\n",
       " 'Re: [新聞] 楊金龍信心喊話:與2019年底比台股漲7.9%',\n",
       " '[新聞] 22家金融業增資總規模破1200億元 明年還',\n",
       " '[新聞] 美國10月ADP私營企業新增32.9萬個職位 ',\n",
       " '[情報] 9933 中鼎 Q3 EPS 0.44',\n",
       " '[情報] 111年11月02日信用交易統計',\n",
       " '[新聞] 華固猴腮雷！前三季再賺一個股本',\n",
       " '[情報] 11/2 全市場當沖虧損最多的股票',\n",
       " '[心得] 盤後資料整理(Excel格式)',\n",
       " '[新聞] 監管帳戶資金被轉 分析：融創與政府合割',\n",
       " '[標的] 啟基6285爆炸多',\n",
       " 'Re: [標的] 創惟 6104 多',\n",
       " 'Re: [新聞] 大陸官方力挺 供銷社概念股大漲',\n",
       " '[情報] 美國再度升息三碼',\n",
       " '[公告] 股票板板規 v4.0 (2022/01/18 修正)',\n",
       " '[公告] 板規宣導',\n",
       " '[閒聊] 2022/11/02 盤後閒聊 ']"
      ]
     },
     "execution_count": 6,
     "metadata": {},
     "output_type": "execute_result"
    }
   ],
   "source": [
    "#放入有效的資料\n",
    "temp = []\n",
    "for title in titles:\n",
    "    if title.a !=None:\n",
    "        temp.append(title.a.string)\n",
    "\n",
    "temp"
   ]
  },
  {
   "cell_type": "code",
   "execution_count": 7,
   "id": "bf68b97f",
   "metadata": {},
   "outputs": [
    {
     "name": "stdout",
     "output_type": "stream",
     "text": [
      "                                   0\n",
      "0           [新聞] 獲利衰退恐讓明年股利難產？台新金有信心\n",
      "1         [新聞] 黃崇仁:明年Q1半導體景氣落底 看好下半年\n",
      "2   Re: [新聞] 楊金龍信心喊話:與2019年底比台股漲7.9%\n",
      "3        [新聞] 22家金融業增資總規模破1200億元 明年還\n",
      "4       [新聞] 美國10月ADP私營企業新增32.9萬個職位 \n",
      "5           [情報] 9933 中鼎 Q3 EPS 0.44\n",
      "6              [情報] 111年11月02日信用交易統計\n",
      "7               [新聞] 華固猴腮雷！前三季再賺一個股本\n",
      "8             [情報] 11/2 全市場當沖虧損最多的股票\n",
      "9               [心得] 盤後資料整理(Excel格式)\n",
      "10          [新聞] 監管帳戶資金被轉 分析：融創與政府合割\n",
      "11                    [標的] 啟基6285爆炸多\n",
      "12                Re: [標的] 創惟 6104 多\n",
      "13          Re: [新聞] 大陸官方力挺 供銷社概念股大漲\n",
      "14                     [情報] 美國再度升息三碼\n",
      "15   [公告] 股票板板規 v4.0 (2022/01/18 修正)\n",
      "16                         [公告] 板規宣導\n",
      "17             [閒聊] 2022/11/02 盤後閒聊 \n"
     ]
    }
   ],
   "source": [
    "#列表轉成dataframe\n",
    "df = pd.DataFrame(temp)\n",
    "print(df)"
   ]
  },
  {
   "cell_type": "code",
   "execution_count": 8,
   "id": "5984b820",
   "metadata": {},
   "outputs": [
    {
     "name": "stdout",
     "output_type": "stream",
     "text": [
      "\"[新聞] 獲利衰退恐讓明年股利難產？台新金有信心\"\n",
      "\"[新聞] 黃崇仁:明年Q1半導體景氣落底 看好下半年\"\n",
      "\"Re: [新聞] 楊金龍信心喊話:與2019年底比台股漲7.9%\"\n",
      "\"[新聞] 22家金融業增資總規模破1200億元 明年還\"\n",
      "\"[新聞] 美國10月ADP私營企業新增32.9萬個職位 \"\n",
      "\"[情報] 9933 中鼎 Q3 EPS 0.44\"\n",
      "\"[情報] 111年11月02日信用交易統計\"\n",
      "\"[新聞] 華固猴腮雷！前三季再賺一個股本\"\n",
      "\"[情報] 11/2 全市場當沖虧損最多的股票\"\n",
      "\"[心得] 盤後資料整理(Excel格式)\"\n",
      "\"[新聞] 監管帳戶資金被轉 分析：融創與政府合割\"\n",
      "\"[標的] 啟基6285爆炸多\"\n",
      "\"Re: [標的] 創惟 6104 多\"\n",
      "\"Re: [新聞] 大陸官方力挺 供銷社概念股大漲\"\n",
      "\"[情報] 美國再度升息三碼\"\n",
      "\"[公告] 股票板板規 v4.0 (2022/01/18 修正)\"\n",
      "\"[公告] 板規宣導\"\n",
      "\"[閒聊] 2022/11/02 盤後閒聊 \"\n"
     ]
    }
   ],
   "source": [
    "#轉成csv檔\n",
    "temp = []\n",
    "for title in titles:\n",
    "    if title.a !=None: # 如果標題包含 a 標籤(仍存在於網頁上)，就印出來\n",
    "        finish = title.a.string \n",
    "        json_dict = json.dumps(finish,ensure_ascii=False).encode('utf8')\n",
    "        decode = json_dict.decode()\n",
    "        temp.append(decode)\n",
    "        print(decode)"
   ]
  },
  {
   "cell_type": "code",
   "execution_count": 9,
   "id": "8091346d",
   "metadata": {
    "scrolled": true
   },
   "outputs": [
    {
     "data": {
      "text/plain": [
       "{0: {0: '[新聞] 獲利衰退恐讓明年股利難產？台新金有信心',\n",
       "  1: '[新聞] 黃崇仁:明年Q1半導體景氣落底 看好下半年',\n",
       "  2: 'Re: [新聞] 楊金龍信心喊話:與2019年底比台股漲7.9%',\n",
       "  3: '[新聞] 22家金融業增資總規模破1200億元 明年還',\n",
       "  4: '[新聞] 美國10月ADP私營企業新增32.9萬個職位 ',\n",
       "  5: '[情報] 9933 中鼎 Q3 EPS 0.44',\n",
       "  6: '[情報] 111年11月02日信用交易統計',\n",
       "  7: '[新聞] 華固猴腮雷！前三季再賺一個股本',\n",
       "  8: '[情報] 11/2 全市場當沖虧損最多的股票',\n",
       "  9: '[心得] 盤後資料整理(Excel格式)',\n",
       "  10: '[新聞] 監管帳戶資金被轉 分析：融創與政府合割',\n",
       "  11: '[標的] 啟基6285爆炸多',\n",
       "  12: 'Re: [標的] 創惟 6104 多',\n",
       "  13: 'Re: [新聞] 大陸官方力挺 供銷社概念股大漲',\n",
       "  14: '[情報] 美國再度升息三碼',\n",
       "  15: '[公告] 股票板板規 v4.0 (2022/01/18 修正)',\n",
       "  16: '[公告] 板規宣導',\n",
       "  17: '[閒聊] 2022/11/02 盤後閒聊 '}}"
      ]
     },
     "execution_count": 9,
     "metadata": {},
     "output_type": "execute_result"
    }
   ],
   "source": [
    "# 將dataFrame轉為dict\n",
    "temp = df.to_dict()\n",
    "type(temp)\n",
    "temp"
   ]
  },
  {
   "cell_type": "code",
   "execution_count": 10,
   "id": "5c2ad6f2",
   "metadata": {
    "scrolled": true
   },
   "outputs": [
    {
     "data": {
      "text/html": [
       "<div>\n",
       "<style scoped>\n",
       "    .dataframe tbody tr th:only-of-type {\n",
       "        vertical-align: middle;\n",
       "    }\n",
       "\n",
       "    .dataframe tbody tr th {\n",
       "        vertical-align: top;\n",
       "    }\n",
       "\n",
       "    .dataframe thead th {\n",
       "        text-align: right;\n",
       "    }\n",
       "</style>\n",
       "<table border=\"1\" class=\"dataframe\">\n",
       "  <thead>\n",
       "    <tr style=\"text-align: right;\">\n",
       "      <th></th>\n",
       "      <th>0</th>\n",
       "    </tr>\n",
       "  </thead>\n",
       "  <tbody>\n",
       "    <tr>\n",
       "      <th>0</th>\n",
       "      <td>[新聞] 獲利衰退恐讓明年股利難產？台新金有信心</td>\n",
       "    </tr>\n",
       "    <tr>\n",
       "      <th>1</th>\n",
       "      <td>[新聞] 黃崇仁:明年Q1半導體景氣落底 看好下半年</td>\n",
       "    </tr>\n",
       "    <tr>\n",
       "      <th>2</th>\n",
       "      <td>Re: [新聞] 楊金龍信心喊話:與2019年底比台股漲7.9%</td>\n",
       "    </tr>\n",
       "    <tr>\n",
       "      <th>3</th>\n",
       "      <td>[新聞] 22家金融業增資總規模破1200億元 明年還</td>\n",
       "    </tr>\n",
       "    <tr>\n",
       "      <th>4</th>\n",
       "      <td>[新聞] 美國10月ADP私營企業新增32.9萬個職位</td>\n",
       "    </tr>\n",
       "    <tr>\n",
       "      <th>5</th>\n",
       "      <td>[情報] 9933 中鼎 Q3 EPS 0.44</td>\n",
       "    </tr>\n",
       "    <tr>\n",
       "      <th>6</th>\n",
       "      <td>[情報] 111年11月02日信用交易統計</td>\n",
       "    </tr>\n",
       "    <tr>\n",
       "      <th>7</th>\n",
       "      <td>[新聞] 華固猴腮雷！前三季再賺一個股本</td>\n",
       "    </tr>\n",
       "    <tr>\n",
       "      <th>8</th>\n",
       "      <td>[情報] 11/2 全市場當沖虧損最多的股票</td>\n",
       "    </tr>\n",
       "    <tr>\n",
       "      <th>9</th>\n",
       "      <td>[心得] 盤後資料整理(Excel格式)</td>\n",
       "    </tr>\n",
       "    <tr>\n",
       "      <th>10</th>\n",
       "      <td>[新聞] 監管帳戶資金被轉 分析：融創與政府合割</td>\n",
       "    </tr>\n",
       "    <tr>\n",
       "      <th>11</th>\n",
       "      <td>[標的] 啟基6285爆炸多</td>\n",
       "    </tr>\n",
       "    <tr>\n",
       "      <th>12</th>\n",
       "      <td>Re: [標的] 創惟 6104 多</td>\n",
       "    </tr>\n",
       "    <tr>\n",
       "      <th>13</th>\n",
       "      <td>Re: [新聞] 大陸官方力挺 供銷社概念股大漲</td>\n",
       "    </tr>\n",
       "    <tr>\n",
       "      <th>14</th>\n",
       "      <td>[情報] 美國再度升息三碼</td>\n",
       "    </tr>\n",
       "    <tr>\n",
       "      <th>15</th>\n",
       "      <td>[公告] 股票板板規 v4.0 (2022/01/18 修正)</td>\n",
       "    </tr>\n",
       "    <tr>\n",
       "      <th>16</th>\n",
       "      <td>[公告] 板規宣導</td>\n",
       "    </tr>\n",
       "    <tr>\n",
       "      <th>17</th>\n",
       "      <td>[閒聊] 2022/11/02 盤後閒聊</td>\n",
       "    </tr>\n",
       "  </tbody>\n",
       "</table>\n",
       "</div>"
      ],
      "text/plain": [
       "                                   0\n",
       "0           [新聞] 獲利衰退恐讓明年股利難產？台新金有信心\n",
       "1         [新聞] 黃崇仁:明年Q1半導體景氣落底 看好下半年\n",
       "2   Re: [新聞] 楊金龍信心喊話:與2019年底比台股漲7.9%\n",
       "3        [新聞] 22家金融業增資總規模破1200億元 明年還\n",
       "4       [新聞] 美國10月ADP私營企業新增32.9萬個職位 \n",
       "5           [情報] 9933 中鼎 Q3 EPS 0.44\n",
       "6              [情報] 111年11月02日信用交易統計\n",
       "7               [新聞] 華固猴腮雷！前三季再賺一個股本\n",
       "8             [情報] 11/2 全市場當沖虧損最多的股票\n",
       "9               [心得] 盤後資料整理(Excel格式)\n",
       "10          [新聞] 監管帳戶資金被轉 分析：融創與政府合割\n",
       "11                    [標的] 啟基6285爆炸多\n",
       "12                Re: [標的] 創惟 6104 多\n",
       "13          Re: [新聞] 大陸官方力挺 供銷社概念股大漲\n",
       "14                     [情報] 美國再度升息三碼\n",
       "15   [公告] 股票板板規 v4.0 (2022/01/18 修正)\n",
       "16                         [公告] 板規宣導\n",
       "17             [閒聊] 2022/11/02 盤後閒聊 "
      ]
     },
     "execution_count": 10,
     "metadata": {},
     "output_type": "execute_result"
    }
   ],
   "source": [
    "df"
   ]
  },
  {
   "cell_type": "code",
   "execution_count": 11,
   "id": "3dbd9325",
   "metadata": {},
   "outputs": [],
   "source": [
    "#把dataframe轉成json\n",
    "df.to_json('stock.json')"
   ]
  },
  {
   "cell_type": "code",
   "execution_count": 13,
   "id": "15b8490a",
   "metadata": {
    "scrolled": true
   },
   "outputs": [],
   "source": [
    "#把dict轉成json \n",
    "with open('CHAT.json','w',encoding='utf-8') as file:\n",
    "    json.dump(temp,file,ensure_ascii=False)"
   ]
  }
 ],
 "metadata": {
  "kernelspec": {
   "display_name": "Python 3 (ipykernel)",
   "language": "python",
   "name": "python3"
  },
  "language_info": {
   "codemirror_mode": {
    "name": "ipython",
    "version": 3
   },
   "file_extension": ".py",
   "mimetype": "text/x-python",
   "name": "python",
   "nbconvert_exporter": "python",
   "pygments_lexer": "ipython3",
   "version": "3.9.12"
  }
 },
 "nbformat": 4,
 "nbformat_minor": 5
}
