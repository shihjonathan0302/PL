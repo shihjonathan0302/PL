{
 "cells": [
  {
   "cell_type": "code",
   "execution_count": 6,
   "id": "33259abb",
   "metadata": {},
   "outputs": [],
   "source": [
    "import json"
   ]
  },
  {
   "cell_type": "code",
   "execution_count": 7,
   "id": "97c3c4bd",
   "metadata": {
    "scrolled": true
   },
   "outputs": [
    {
     "data": {
      "text/plain": [
       "dict"
      ]
     },
     "execution_count": 7,
     "metadata": {},
     "output_type": "execute_result"
    }
   ],
   "source": [
    "#打開 NBA 湖人隊的隊員資料\n",
    "test = open('lakers.json',encoding=\"utf8\")\n",
    "Data = json.load(test)\n",
    "type(Data)"
   ]
  },
  {
   "cell_type": "code",
   "execution_count": 8,
   "id": "335255c1",
   "metadata": {
    "scrolled": true
   },
   "outputs": [
    {
     "data": {
      "text/plain": [
       "dict_items([('Team Name', 'Los Angeles Lakers'), ('Conference', 'Western'), ('Founded', '1947'), ('Arena', 'Crypto.com Arena'), ('President', 'Jeanie Buss'), ('General Manager', 'Rob Pelinka'), ('Head Coach', 'Darvin Ham'), ('Members', [{'Number': 31, 'Name': 'Thomas Bryant', 'Position': 'C', 'Age': 25, 'Height': 2.08, 'Weight': 112.49}, {'Number': 6, 'Name': 'Lebron James', 'Position': 'SF', 'Age': 37, 'Height': 2.06, 'Weight': 113.4}, {'Number': 30, 'Name': 'Jay Huff', 'Position': 'C', 'Age': 25, 'Height': 2.16, 'Weight': 108.86}, {'Number': 35, 'Name': 'Wenyen Gabriel', 'Position': 'PF', 'Age': 25, 'Height': 2.06, 'Weight': 92.99}, {'Number': 30, 'Name': 'Damian Jones', 'Position': 'C', 'Age': 27, 'Height': 2.11, 'Weight': 111.3}, {'Number': 7, 'Name': 'Troy Brown Jr.', 'Position': 'SF', 'Age': 23, 'Height': 1.98, 'Weight': 97.52}, {'Number': 0, 'Name': 'Shaquille Harrison', 'Position': 'SG', 'Age': 29, 'Height': 2.01, 'Weight': 86.18}, {'Number': 0, 'Name': 'Russell Westbrook', 'Position': 'PG', 'Age': 33, 'Height': 1.9100000000000001, 'Weight': 90.72}, {'Number': 21, 'Name': 'Patrick Beverley', 'Position': 'PG', 'Age': 34, 'Height': 1.85, 'Weight': 81.65}, {'Number': 17, 'Name': 'Dennis Schroder', 'Position': 'PG', 'Age': 29, 'Height': 1.85, 'Weight': 78.02}, {'Number': 15, 'Name': 'Austin Reeves', 'Position': 'SG', 'Age': 24, 'Height': 1.96, 'Weight': 89.36}, {'Number': 95, 'Name': 'Juan Toscano-Anderson', 'Position': 'SF', 'Age': 29, 'Height': 1.98, 'Weight': 94.8}, {'Number': 4, 'Name': 'Lonnie Walker', 'Position': 'SG', 'Age': 23, 'Height': 1.9300000000000002, 'Weight': 92.53}, {'Number': 12, 'Name': 'Kemdrick Nunn', 'Position': 'PG', 'Age': 27, 'Height': 1.88, 'Weight': 86.14}, {'Number': 3, 'Name': 'Anthimy Davis', 'Position': 'PF', 'Age': 29, 'Height': 2.08, 'Weight': 114.76}, {'Number': 37, 'Name': 'Matt Ryan', 'Position': 'SF', 'Age': 25, 'Height': 2.01, 'Weight': 97.52}, {'Number': 20, 'Name': 'Cole Swider', 'Position': 'SF', 'Age': 23, 'Height': 2.06, 'Weight': 99.79}, {'Number': 1, 'Name': 'Scotty Pippen Jr.', 'Position': 'PG', 'Age': 21, 'Height': 1.85, 'Weight': 77.11}, {'Number': 10, 'Name': 'Max Christie', 'Position': 'SG', 'Age': 19, 'Height': 1.98, 'Weight': 86.18}])])"
      ]
     },
     "execution_count": 8,
     "metadata": {},
     "output_type": "execute_result"
    }
   ],
   "source": [
    "Data.items()"
   ]
  },
  {
   "cell_type": "code",
   "execution_count": 9,
   "id": "27fd8495",
   "metadata": {},
   "outputs": [
    {
     "data": {
      "text/plain": [
       "[{'Number': 31,\n",
       "  'Name': 'Thomas Bryant',\n",
       "  'Position': 'C',\n",
       "  'Age': 25,\n",
       "  'Height': 2.08,\n",
       "  'Weight': 112.49},\n",
       " {'Number': 6,\n",
       "  'Name': 'Lebron James',\n",
       "  'Position': 'SF',\n",
       "  'Age': 37,\n",
       "  'Height': 2.06,\n",
       "  'Weight': 113.4},\n",
       " {'Number': 30,\n",
       "  'Name': 'Jay Huff',\n",
       "  'Position': 'C',\n",
       "  'Age': 25,\n",
       "  'Height': 2.16,\n",
       "  'Weight': 108.86},\n",
       " {'Number': 35,\n",
       "  'Name': 'Wenyen Gabriel',\n",
       "  'Position': 'PF',\n",
       "  'Age': 25,\n",
       "  'Height': 2.06,\n",
       "  'Weight': 92.99},\n",
       " {'Number': 30,\n",
       "  'Name': 'Damian Jones',\n",
       "  'Position': 'C',\n",
       "  'Age': 27,\n",
       "  'Height': 2.11,\n",
       "  'Weight': 111.3},\n",
       " {'Number': 7,\n",
       "  'Name': 'Troy Brown Jr.',\n",
       "  'Position': 'SF',\n",
       "  'Age': 23,\n",
       "  'Height': 1.98,\n",
       "  'Weight': 97.52},\n",
       " {'Number': 0,\n",
       "  'Name': 'Shaquille Harrison',\n",
       "  'Position': 'SG',\n",
       "  'Age': 29,\n",
       "  'Height': 2.01,\n",
       "  'Weight': 86.18},\n",
       " {'Number': 0,\n",
       "  'Name': 'Russell Westbrook',\n",
       "  'Position': 'PG',\n",
       "  'Age': 33,\n",
       "  'Height': 1.9100000000000001,\n",
       "  'Weight': 90.72},\n",
       " {'Number': 21,\n",
       "  'Name': 'Patrick Beverley',\n",
       "  'Position': 'PG',\n",
       "  'Age': 34,\n",
       "  'Height': 1.85,\n",
       "  'Weight': 81.65},\n",
       " {'Number': 17,\n",
       "  'Name': 'Dennis Schroder',\n",
       "  'Position': 'PG',\n",
       "  'Age': 29,\n",
       "  'Height': 1.85,\n",
       "  'Weight': 78.02},\n",
       " {'Number': 15,\n",
       "  'Name': 'Austin Reeves',\n",
       "  'Position': 'SG',\n",
       "  'Age': 24,\n",
       "  'Height': 1.96,\n",
       "  'Weight': 89.36},\n",
       " {'Number': 95,\n",
       "  'Name': 'Juan Toscano-Anderson',\n",
       "  'Position': 'SF',\n",
       "  'Age': 29,\n",
       "  'Height': 1.98,\n",
       "  'Weight': 94.8},\n",
       " {'Number': 4,\n",
       "  'Name': 'Lonnie Walker',\n",
       "  'Position': 'SG',\n",
       "  'Age': 23,\n",
       "  'Height': 1.9300000000000002,\n",
       "  'Weight': 92.53},\n",
       " {'Number': 12,\n",
       "  'Name': 'Kemdrick Nunn',\n",
       "  'Position': 'PG',\n",
       "  'Age': 27,\n",
       "  'Height': 1.88,\n",
       "  'Weight': 86.14},\n",
       " {'Number': 3,\n",
       "  'Name': 'Anthimy Davis',\n",
       "  'Position': 'PF',\n",
       "  'Age': 29,\n",
       "  'Height': 2.08,\n",
       "  'Weight': 114.76},\n",
       " {'Number': 37,\n",
       "  'Name': 'Matt Ryan',\n",
       "  'Position': 'SF',\n",
       "  'Age': 25,\n",
       "  'Height': 2.01,\n",
       "  'Weight': 97.52},\n",
       " {'Number': 20,\n",
       "  'Name': 'Cole Swider',\n",
       "  'Position': 'SF',\n",
       "  'Age': 23,\n",
       "  'Height': 2.06,\n",
       "  'Weight': 99.79},\n",
       " {'Number': 1,\n",
       "  'Name': 'Scotty Pippen Jr.',\n",
       "  'Position': 'PG',\n",
       "  'Age': 21,\n",
       "  'Height': 1.85,\n",
       "  'Weight': 77.11},\n",
       " {'Number': 10,\n",
       "  'Name': 'Max Christie',\n",
       "  'Position': 'SG',\n",
       "  'Age': 19,\n",
       "  'Height': 1.98,\n",
       "  'Weight': 86.18}]"
      ]
     },
     "execution_count": 9,
     "metadata": {},
     "output_type": "execute_result"
    }
   ],
   "source": [
    "#所有成員的名單以及球員資料\n",
    "temp = Data.get('Members')\n",
    "temp"
   ]
  },
  {
   "cell_type": "code",
   "execution_count": 10,
   "id": "5f2ac2c4",
   "metadata": {},
   "outputs": [
    {
     "name": "stdout",
     "output_type": "stream",
     "text": [
      "Lebron James is 37 years old\n"
     ]
    }
   ],
   "source": [
    "#查詢使用者年紀\n",
    "ask = \"Lebron James\"\n",
    "for i in temp:\n",
    "    if ask == i.get('Name'):\n",
    "        print(ask, 'is', i.get('Age'), 'years old') "
   ]
  },
  {
   "cell_type": "code",
   "execution_count": 11,
   "id": "8582a4f2",
   "metadata": {},
   "outputs": [
    {
     "data": {
      "text/plain": [
       "[25, 37, 25, 25, 27, 23, 29, 33, 34, 29, 24, 29, 23, 27, 29, 25, 23, 21, 19]"
      ]
     },
     "execution_count": 11,
     "metadata": {},
     "output_type": "execute_result"
    }
   ],
   "source": [
    "#排序所有球員的年紀\n",
    "allage = [ ]\n",
    "for i in temp:\n",
    "    allage.append(i.get('Age'))\n",
    "allage"
   ]
  },
  {
   "cell_type": "code",
   "execution_count": 12,
   "id": "2a5635ad",
   "metadata": {},
   "outputs": [],
   "source": [
    "allage_enumerate = enumerate(allage, start = 1)"
   ]
  },
  {
   "cell_type": "code",
   "execution_count": 13,
   "id": "54fa19b6",
   "metadata": {},
   "outputs": [
    {
     "data": {
      "text/plain": [
       "[(2, 37),\n",
       " (9, 34),\n",
       " (8, 33),\n",
       " (7, 29),\n",
       " (10, 29),\n",
       " (12, 29),\n",
       " (15, 29),\n",
       " (5, 27),\n",
       " (14, 27),\n",
       " (1, 25),\n",
       " (3, 25),\n",
       " (4, 25),\n",
       " (16, 25),\n",
       " (11, 24),\n",
       " (6, 23),\n",
       " (13, 23),\n",
       " (17, 23),\n",
       " (18, 21),\n",
       " (19, 19)]"
      ]
     },
     "execution_count": 13,
     "metadata": {},
     "output_type": "execute_result"
    }
   ],
   "source": [
    "allage_enumerate_sorted = sorted(allage_enumerate, key = lambda s: s[1], reverse = True)\n",
    "allage_enumerate_sorted"
   ]
  },
  {
   "cell_type": "code",
   "execution_count": 14,
   "id": "fe8332b7",
   "metadata": {},
   "outputs": [
    {
     "data": {
      "text/plain": [
       "2"
      ]
     },
     "execution_count": 14,
     "metadata": {},
     "output_type": "execute_result"
    }
   ],
   "source": [
    "allage_enumerate_sorted[0][0]"
   ]
  },
  {
   "cell_type": "code",
   "execution_count": 16,
   "id": "6d4ac987",
   "metadata": {},
   "outputs": [
    {
     "name": "stdout",
     "output_type": "stream",
     "text": [
      "Lebron James 是 37 歲\n",
      "Patrick Beverley 是 34 歲\n",
      "Russell Westbrook 是 33 歲\n",
      "Shaquille Harrison 是 29 歲\n",
      "Dennis Schroder 是 29 歲\n",
      "Juan Toscano-Anderson 是 29 歲\n",
      "Anthimy Davis 是 29 歲\n",
      "Damian Jones 是 27 歲\n",
      "Kemdrick Nunn 是 27 歲\n",
      "Thomas Bryant 是 25 歲\n",
      "Jay Huff 是 25 歲\n",
      "Wenyen Gabriel 是 25 歲\n",
      "Matt Ryan 是 25 歲\n",
      "Austin Reeves 是 24 歲\n",
      "Troy Brown Jr. 是 23 歲\n",
      "Lonnie Walker 是 23 歲\n",
      "Cole Swider 是 23 歲\n",
      "Scotty Pippen Jr. 是 21 歲\n",
      "Max Christie 是 19 歲\n"
     ]
    }
   ],
   "source": [
    "# 印出由大到小排序過後的年紀還有名字\n",
    "for i in allage_enumerate_sorted:\n",
    "    j = i[0] - 1\n",
    "    print(temp[j].get('Name'), '是', temp[j].get('Age'), '歲')"
   ]
  }
 ],
 "metadata": {
  "kernelspec": {
   "display_name": "Python 3 (ipykernel)",
   "language": "python",
   "name": "python3"
  },
  "language_info": {
   "codemirror_mode": {
    "name": "ipython",
    "version": 3
   },
   "file_extension": ".py",
   "mimetype": "text/x-python",
   "name": "python",
   "nbconvert_exporter": "python",
   "pygments_lexer": "ipython3",
   "version": "3.9.12"
  }
 },
 "nbformat": 4,
 "nbformat_minor": 5
}
