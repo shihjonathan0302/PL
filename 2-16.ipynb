{
 "cells": [
  {
   "cell_type": "code",
   "execution_count": 5,
   "id": "a2853d6e",
   "metadata": {},
   "outputs": [
    {
     "name": "stdout",
     "output_type": "stream",
     "text": [
      "原告需賠償金額： 7706 元\n",
      "被告需賠償金額： 17981 元\n"
     ]
    }
   ],
   "source": [
    "money=25688\n",
    "a=money*0.3\n",
    "b=money*0.7\n",
    "print(\"原告需賠償金額：\", int(a),\"元\")\n",
    "print(\"被告需賠償金額：\", int(b),\"元\")"
   ]
  },
  {
   "cell_type": "code",
   "execution_count": null,
   "id": "317fe1b8",
   "metadata": {},
   "outputs": [],
   "source": [
    "money=11805\n",
    "a=money*(1+0.05)**"
   ]
  }
 ],
 "metadata": {
  "kernelspec": {
   "display_name": "Python 3 (ipykernel)",
   "language": "python",
   "name": "python3"
  },
  "language_info": {
   "codemirror_mode": {
    "name": "ipython",
    "version": 3
   },
   "file_extension": ".py",
   "mimetype": "text/x-python",
   "name": "python",
   "nbconvert_exporter": "python",
   "pygments_lexer": "ipython3",
   "version": "3.9.12"
  }
 },
 "nbformat": 4,
 "nbformat_minor": 5
}
